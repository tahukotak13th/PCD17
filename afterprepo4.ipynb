{
 "cells": [
  {
   "cell_type": "markdown",
   "metadata": {},
   "source": [
    "# PROJECT PENGOLAHAN CITRA DIGITAL"
   ]
  },
  {
   "cell_type": "markdown",
   "metadata": {},
   "source": [
    "# Percobaan 4"
   ]
  },
  {
   "cell_type": "markdown",
   "metadata": {},
   "source": [
    "### Mengimpor Library"
   ]
  },
  {
   "cell_type": "code",
   "execution_count": 1,
   "metadata": {},
   "outputs": [],
   "source": [
    "import os\n",
    "import cv2 as cv\n",
    "import matplotlib.pyplot as plt\n",
    "import numpy as np\n",
    "import pandas as pd\n",
    "from sklearn.model_selection import train_test_split, cross_val_predict\n",
    "from sklearn.metrics import accuracy_score, classification_report\n",
    "from skimage.feature import graycomatrix, graycoprops\n",
    "from scipy.stats import entropy\n",
    "from sklearn.ensemble import RandomForestClassifier\n",
    "from sklearn.svm import SVC\n",
    "from sklearn.neighbors import KNeighborsClassifier\n",
    "from sklearn.metrics import accuracy_score, precision_score, recall_score, f1_score, confusion_matrix, classification_report\n",
    "from sklearn.metrics import (confusion_matrix, ConfusionMatrixDisplay)\n",
    "import seaborn as sns"
   ]
  },
  {
   "cell_type": "markdown",
   "metadata": {},
   "source": [
    "Script di atas mengimpor berbagai library yang diperlukan untuk proses pengolahan citra, analisis data, dan implementasi machine learning. Library yang digunakan antara lain:\n",
    "1. os - Digunakan untuk operasi sistem seperti manajemen file dan direktori  \n",
    "2. cv2 (OpenCV) - Library utama untuk pemrosesan citra digital (membaca, memproses, dan menyimpan gambar)  \n",
    "3. matplotlib.pyplot - Untuk visualisasi data dan gambar dalam bentuk plot dan grafik  \n",
    "4. numpy - Library untuk komputasi numerik dan operasi array multidimensi  \n",
    "5. pandas - Digunakan untuk manipulasi dan analisis data tabular  \n",
    "\n",
    "Untuk kebutuhan machine learning, script menggunakan beberapa modul dari scikit-learn:  \n",
    "- sklearn.model_selection (train_test_split, cross_val_predict) - Untuk pembagian dataset dan validasi silang  \n",
    "- sklearn.feature_selection (SelectKBest, f_classif) - Untuk seleksi fitur optimal  \n",
    "- sklearn.metrics - Berisi berbagai metrik evaluasi seperti accuracy_score, classification_report, confusion_matrix, dll  \n",
    "\n",
    "Untuk ekstraksi fitur tekstur gambar digunakan:  \n",
    "- skimage.feature (graycomatrix, graycoprops) - Untuk menghitung fitur tekstur GLCM (Gray Level Co-occurrence Matrix)  \n",
    "- scipy.stats(entropy) - Untuk menghitung nilai entropi sebagai fitur tambahan  \n",
    "\n",
    "Terdapat tiga algoritma klasifikasi yang diimplementasikan:  \n",
    "1. RandomForestClassifier - Ensemble learning berbasis decision tree  \n",
    "2. SVC (Support Vector Classifier) - Algoritma SVM untuk klasifikasi  \n",
    "3. KNeighborsClassifier - Algoritma KNN berbasis jarak  \n",
    "\n",
    "Untuk preprocessing dan visualisasi tambahan digunakan:  \n",
    "- MinMaxScaler - Untuk normalisasi fitur  \n",
    "- seaborn - Library visualisasi statistik yang memperindah tampilan plot  \n",
    "- ConfusionMatrixDisplay - Untuk menampilkan confusion matrix secara visual"
   ]
  },
  {
   "cell_type": "markdown",
   "metadata": {},
   "source": [
    "## Data Loading"
   ]
  },
  {
   "cell_type": "markdown",
   "metadata": {},
   "source": [
    "Buat struktur folder dataset sebagai berikut:\n",
    "```\n",
    ".\n",
    "└──dataset\n",
    "    ├── label1\n",
    "\t├── image1.jpg\n",
    "\t├── image2.jpg\n",
    "\t└── image3.jpg\n",
    "    ├── label2\n",
    "    └── label3\n",
    "    └── dst...\n",
    "```"
   ]
  },
  {
   "cell_type": "code",
   "execution_count": null,
   "metadata": {},
   "outputs": [],
   "source": [
    "# data = []\n",
    "# labels = []\n",
    "# file_name = []\n",
    "# for sub_folder in os.listdir(\"dataset\\\\\"):\n",
    "#     sub_folder_files = os.listdir(os.path.join(\"dataset\\\\\", sub_folder))\n",
    "#     for i, filename in enumerate(sub_folder_files):\n",
    "#         img_path = os.path.join(\"dataset\\\\\", sub_folder, filename)\n",
    "#         img = cv.imread(img_path)\n",
    "#         img = img.astype(np.uint8)\n",
    "#         img = cv.cvtColor(img, cv.COLOR_BGR2GRAY)\n",
    "        \n",
    "#         data.append(img)\n",
    "#         labels.append(sub_folder)\n",
    "#         name = os.path.splitext(filename)[0]\n",
    "#         file_name.append(filename)\n",
    "        \n",
    "# data = np.array(data)\n",
    "# labels = np.array(labels)\n",
    "\n",
    "data = []\n",
    "labels = []\n",
    "file_name = []\n",
    "\n",
    "base_path = \"dataset\\\\\"\n",
    "\n",
    "for sub_folder in os.listdir(base_path):\n",
    "    sub_folder_path = os.path.join(base_path, sub_folder)\n",
    "    \n",
    "    if not os.path.isdir(sub_folder_path):\n",
    "        continue  # Lewati jika bukan folder\n",
    "    \n",
    "    sub_folder_files = os.listdir(sub_folder_path)\n",
    "    sub_folder_files = sub_folder_files[:100]  # Ambil hanya 100 file pertama\n",
    "\n",
    "    for filename in sub_folder_files:\n",
    "        img_path = os.path.join(sub_folder_path, filename)\n",
    "        img = cv.imread(img_path)\n",
    "\n",
    "        if img is None:\n",
    "            continue  # Lewati file jika gagal dibaca\n",
    "\n",
    "        img = img.astype(np.uint8)\n",
    "        img = cv.cvtColor(img, cv.COLOR_BGR2GRAY)\n",
    "\n",
    "        data.append(img)\n",
    "        labels.append(sub_folder)\n",
    "        file_name.append(filename)\n",
    "\n",
    "data = np.array(data)\n",
    "labels = np.array(labels)\n",
    "\n",
    "plt.imshow(data[300],cmap='gray')\n",
    "print(labels[300])"
   ]
  },
  {
   "cell_type": "markdown",
   "metadata": {},
   "source": [
    "Program di atas digunakan untuk membaca gambar dari folder dataset, di mana setiap subfolder merepresentasikan satu label. Gambar dari masing-masing subfolder dibatasi hanya 100 file pertama, lalu dibaca menggunakan OpenCV, dikonversi ke grayscale, dan disimpan ke dalam list `data`. Label (nama folder) disimpan ke `labels`, dan nama file disimpan ke `file_name`. Setelah semua gambar diproses, list diubah menjadi array NumPy agar lebih efisien dipakai dalam pemrosesan. Terakhir, kode menampilkan salah satu gambar (`data[300]`) dan mencetak label-nya (`labels[300]`).\n"
   ]
  },
  {
   "cell_type": "markdown",
   "metadata": {},
   "source": [
    "## Data Augmentation"
   ]
  },
  {
   "cell_type": "markdown",
   "metadata": {},
   "source": [
    "### Define Augmentation Function\n"
   ]
  },
  {
   "cell_type": "markdown",
   "metadata": {},
   "source": [
    "Program di bawah digunakan untuk membuat citra hasil flip (cermin) secara horizontal dan vertikal. Keduanya bekerja dengan cara membuat array kosong (result) berukuran sama dengan gambar asli, lalu menyalin piksel dari gambar input (img) ke posisi yang dicerminkan.\n",
    "\n",
    "Pada fungsi mirror_h(img), proses flip dilakukan secara horizontal (kiri-kanan), di mana setiap piksel pada baris i dan kolom j akan diisi dengan nilai dari kolom di posisi sebaliknya (cols - j - 1). Sedangkan pada fungsi mirror_v(img), flip dilakukan secara vertikal (atas-bawah), dengan menyalin piksel dari baris rows - i - 1, sehingga citra seolah-olah dicerminkan terhadap sumbu horizontal."
   ]
  },
  {
   "cell_type": "code",
   "execution_count": null,
   "metadata": {},
   "outputs": [],
   "source": [
    "def mirror_h(img):\n",
    "    rows, cols = img.shape\n",
    "    result = np.zeros_like(img)\n",
    "    for i in range(rows):\n",
    "        for j in range(cols):\n",
    "            result[i, j] = img[i, cols - j - 1]\n",
    "    return result\n",
    "\n",
    "def mirror_v(img):\n",
    "    rows, cols = img.shape\n",
    "    result = np.zeros_like(img)\n",
    "    for i in range(rows):\n",
    "        for j in range(cols):\n",
    "            result[i, j] = img[rows - i - 1, j]\n",
    "    return result"
   ]
  },
  {
   "cell_type": "markdown",
   "metadata": {},
   "source": [
    "Program di bawah digunakan untuk memutar gambar (img) sebesar sudut tertentu (angle_deg), dengan membuat hasil rotasi berada di tengah kanvas baru agar tidak terpotong. Pertama, sudut derajat dikonversi ke radian karena fungsi trigonometri di NumPy menggunakan radian. Lalu dihitung nilai cos dan sin untuk transformasi rotasi. Fungsi ini menentukan ukuran gambar baru (new_rows, new_cols) agar seluruh hasil rotasi muat, dan membuat gambar kosong (new_img) dengan ukuran tersebut. Titik tengah gambar lama dan baru dihitung agar rotasi berpusat.\n",
    "\n",
    "Untuk setiap piksel pada gambar baru (new_img), posisi (i, j) diubah ke koordinat relatif terhadap pusat, kemudian dihitung posisi asalnya di gambar lama dengan rumus rotasi terbalik. Jika posisi asal tersebut masih berada dalam batas gambar asli, maka nilai piksel dari posisi asal disalin ke posisi baru. Ini dilakukan agar gambar terlihat seperti diputar tanpa kehilangan informasi."
   ]
  },
  {
   "cell_type": "code",
   "execution_count": null,
   "metadata": {},
   "outputs": [],
   "source": [
    "def rotate_custom(img, angle_deg):\n",
    "    angle_rad = np.radians(angle_deg)\n",
    "    cos_theta = np.cos(angle_rad)\n",
    "    sin_theta = np.sin(angle_rad)\n",
    "\n",
    "    rows, cols = img.shape\n",
    "    cx, cy = rows / 2, cols / 2\n",
    "\n",
    "    new_rows = int(abs(rows * cos_theta) + abs(cols * sin_theta))\n",
    "    new_cols = int(abs(cols * cos_theta) + abs(rows * sin_theta))\n",
    "\n",
    "    new_img = np.zeros((new_rows, new_cols), dtype=img.dtype)\n",
    "\n",
    "    new_cx, new_cy = new_rows / 2, new_cols / 2\n",
    "\n",
    "    for i in range(new_rows):\n",
    "        for j in range(new_cols):\n",
    "            # Translasi ke pusat\n",
    "            y = i - new_cx\n",
    "            x = j - new_cy\n",
    "\n",
    "            # Rotasi balik\n",
    "            orig_x = cos_theta * x + sin_theta * y + cx\n",
    "            orig_y = -sin_theta * x + cos_theta * y + cy\n",
    "\n",
    "            orig_x = int(round(orig_x))\n",
    "            orig_y = int(round(orig_y))\n",
    "\n",
    "            if 0 <= orig_x < rows and 0 <= orig_y < cols:\n",
    "                new_img[i, j] = img[orig_x, orig_y]\n",
    "\n",
    "    return new_img\n"
   ]
  },
  {
   "cell_type": "markdown",
   "metadata": {},
   "source": [
    "Program di bawah digunakan untuk mengubah ukuran gambar dengan faktor skala `sx` (lebar) dan `sy` (tinggi). Gambar baru dibuat dengan ukuran yang disesuaikan, lalu setiap piksel di gambar baru diisi dengan nilai dari posisi yang sesuai di gambar asli, berdasarkan pembagian skala. Ini adalah bentuk scaling manual (nearest neighbor) yang sederhana.\n"
   ]
  },
  {
   "cell_type": "code",
   "execution_count": null,
   "metadata": {},
   "outputs": [],
   "source": [
    "def scale(img, sx, sy):\n",
    "    rows, cols = img.shape\n",
    "    new_rows = int(rows * sy)\n",
    "    new_cols = int(cols * sx)\n",
    "    result = np.zeros((new_rows, new_cols), dtype=img.dtype)\n",
    "    for i in range(new_rows):\n",
    "        for j in range(new_cols):\n",
    "            orig_i = min(int(i / sy), rows - 1)\n",
    "            orig_j = min(int(j / sx), cols - 1)\n",
    "            result[i, j] = img[orig_i, orig_j]\n",
    "    return result"
   ]
  },
  {
   "cell_type": "markdown",
   "metadata": {},
   "source": [
    "Program di bawah melakukan augmentasi data citra dengan cara menyalin gambar asli dan membuat beberapa versi modifikasinya, lalu menyimpannya dalam list baru. Empat list kosong disiapkan: `data_augmented` untuk gambar, `labels_all` untuk label, `file_names_all` untuk nama file, dan `paths_all` untuk menyimpan path (di sini masih kosong). \n",
    "\n",
    "Perulangan `for i in range(len(data))` digunakan untuk mengambil setiap gambar asli satu per satu beserta label dan nama filenya. Di dalam loop, gambar asli langsung ditambahkan terlebih dahulu ke list hasil. Setelah itu, dibuat empat versi augmentasi menggunakan fungsi `mirror_h`, `mirror_v`, `rotate_custom`, dan `scale`. Gambar-gambar hasil augmentasi ini dikumpulkan dalam list `augmented_images`, lalu dilakukan loop lagi untuk menyimpan setiap gambar augmentasi ke list `data_augmented`, dengan label yang sama dan nama file yang diberi akhiran sesuai jenis augmentasinya. Jadi, satu gambar asli akan menghasilkan lima data total: 1 asli + 4 augmentasi.\n"
   ]
  },
  {
   "cell_type": "code",
   "execution_count": null,
   "metadata": {},
   "outputs": [],
   "source": [
    "# # melakukan augmentasi data\n",
    "# data_augmented = []\n",
    "# labels_augmented = []\n",
    "# paths_augmented = []\n",
    "# file_name_augmented = []\n",
    "# for i in range(len(data)):\n",
    "# \tpass\n",
    "\n",
    "# data_augmented = []\n",
    "# labels_augmented = []\n",
    "# paths_augmented = []\n",
    "# file_name_augmented = []\n",
    "\n",
    "# for i in range(len(data)):\n",
    "#     img = data[i]\n",
    "#     label = labels[i]\n",
    "#     fname = file_name[i]\n",
    "\n",
    "#     # Augmentasi\n",
    "#     img_flipped_h = mirror_h(img)\n",
    "#     img_flipped_v = mirror_v(img)\n",
    "#     img_rotated = rotate_custom(img, 45)\n",
    "#     img_scaled  = scale(img, 2, 2)\n",
    "\n",
    "#     augmented_images = [\n",
    "#         (img_flipped_h, '_flip_h'),\n",
    "#         (img_flipped_v, '_flip_v'),\n",
    "#         (img_rotated, '_rot'),\n",
    "#         (img_scaled, '_scale')\n",
    "#     ]\n",
    "\n",
    "#     for aug_img, suffix in augmented_images:\n",
    "#         data_augmented.append(aug_img)\n",
    "#         labels_augmented.append(label)\n",
    "#         file_name_augmented.append(fname + suffix)\n",
    "#         paths_augmented.append(\"\")  # tambahkan path jika perlu\n",
    "\n",
    "# # Gabungkan data asli dan data augmentasi (hati-hati dengan ukuran yang berbeda)\n",
    "# data_all = list(data) + data_augmented\n",
    "# labels_all = list(labels) + labels_augmented\n",
    "# file_names_all = list(file_name) + file_name_augmented\n",
    "\n",
    "data_augmented = []\n",
    "labels_all = []\n",
    "file_names_all = []\n",
    "paths_all = []\n",
    "\n",
    "for i in range(len(data)):\n",
    "    img = data[i]\n",
    "    label = labels[i]\n",
    "    fname = file_name[i]\n",
    "\n",
    "    # Tambahkan data asli terlebih dahulu\n",
    "    data_augmented.append(img)\n",
    "    labels_all.append(label)\n",
    "    file_names_all.append(fname)\n",
    "    paths_all.append(\"\")\n",
    "\n",
    "    # Augmentasi\n",
    "    img_flipped_h = mirror_h(img)\n",
    "    img_flipped_v = mirror_v(img)\n",
    "    img_rotated = rotate_custom(img, 45)\n",
    "    img_scaled  = scale(img, 2, 2)\n",
    "\n",
    "    augmented_images = [\n",
    "        (img_flipped_h, '_flip_h'),\n",
    "        (img_flipped_v, '_flip_v'),\n",
    "        (img_rotated, '_rot'),\n",
    "        (img_scaled, '_scale')\n",
    "    ]\n",
    "\n",
    "    for aug_img, suffix in augmented_images:\n",
    "        data_augmented.append(aug_img)\n",
    "        labels_all.append(label)\n",
    "        file_names_all.append(fname + suffix)\n",
    "        paths_all.append(\"\")\n",
    "\n",
    "\n"
   ]
  },
  {
   "cell_type": "code",
   "execution_count": null,
   "metadata": {},
   "outputs": [
    {
     "data": {
      "text/plain": [
       "<matplotlib.image.AxesImage at 0x1cf195fc910>"
      ]
     },
     "execution_count": 7,
     "metadata": {},
     "output_type": "execute_result"
    },
    {
     "data": {
      "image/png": "[encoded data removed]",
      "text/plain": [
       "<Figure size 640x480 with 5 Axes>"
      ]
     },
     "metadata": {},
     "output_type": "display_data"
    }
   ],
   "source": [
    "plt.subplot(1,5,1)\n",
    "plt.imshow(data_augmented[0],cmap='gray')\n",
    "plt.subplot(1,5,2)\n",
    "plt.imshow(data_augmented[1],cmap='gray')\n",
    "plt.subplot(1,5,3)\n",
    "plt.imshow(data_augmented[2],cmap='gray')\n",
    "plt.subplot(1,5,4)\n",
    "plt.imshow(data_augmented[3],cmap='gray')\n",
    "plt.subplot(1,5,5)\n",
    "plt.imshow(data_augmented[4],cmap='gray')"
   ]
  },
  {
   "cell_type": "markdown",
   "metadata": {},
   "source": [
    "Program di atas untuk menampilkan 5 citra hasil augmentasi \n",
    "data_augmented[0] → gambar asli\n",
    "\n",
    "data_augmented[1] → gambar hasil flip horizontal\n",
    "\n",
    "data_augmented[2] → gambar hasil flip vertikal\n",
    "\n",
    "data_augmented[3] → gambar hasil rotasi\n",
    "\n",
    "data_augmented[4] → gambar hasil scaling"
   ]
  },
  {
   "cell_type": "markdown",
   "metadata": {},
   "source": [
    "Program di bawah untuk menampilkan jumlah data gambar sebelum dan sesudah augmentasi"
   ]
  },
  {
   "cell_type": "code",
   "execution_count": null,
   "metadata": {},
   "outputs": [
    {
     "name": "stdout",
     "output_type": "stream",
     "text": [
      "Data sebelum augmentasi:  400\n",
      "Data setelah augmentasi:  2000\n"
     ]
    }
   ],
   "source": [
    "print(\"Data sebelum augmentasi: \", len(data))\n",
    "print(\"Data setelah augmentasi: \", len(data_augmented))"
   ]
  },
  {
   "cell_type": "markdown",
   "metadata": {},
   "source": [
    "## Data Preparation"
   ]
  },
  {
   "cell_type": "markdown",
   "metadata": {},
   "source": [
    "### Define Preprocessing Function\n"
   ]
  },
  {
   "cell_type": "markdown",
   "metadata": {},
   "source": [
    "Program di bawah digunakan untuk meningkatkan kontras gambar grayscale melalui proses histogram equalization secara manual. Fungsi ini pertama-tama menghitung histogram piksel (jumlah kemunculan tiap intensitas 0–255), lalu menghitung PDF (probabilitas) dan CDF (distribusi kumulatif) dari intensitas tersebut. Berdasarkan CDF, dibuat pemetaan nilai piksel baru agar distribusinya lebih merata. Terakhir, fungsi menerapkan pemetaan tersebut ke seluruh piksel gambar dan menghasilkan gambar baru dengan kontras yang ditingkatkan.\n"
   ]
  },
  {
   "cell_type": "code",
   "execution_count": null,
   "metadata": {},
   "outputs": [],
   "source": [
    "def equalize_histogram2(image):\n",
    "    height, width = image.shape\n",
    "\n",
    "    histogram = [0] * 256\n",
    "    for i in range(height):\n",
    "        for j in range(width):\n",
    "            histogram[int(image[i][j])] += 1\n",
    "\n",
    "    total_pixels = height * width\n",
    "    pdf = [h / total_pixels for h in histogram]\n",
    "\n",
    "    cdf = [0] * 256\n",
    "    cdf[0] = pdf[0]\n",
    "    for i in range(1, 256):\n",
    "        cdf[i] = cdf[i - 1] + pdf[i]\n",
    "\n",
    "    mapping = [int(round(c * 255)) for c in cdf]\n",
    "\n",
    "    result = np.zeros((height, width), dtype=np.uint8)\n",
    "    for i in range(height):\n",
    "        for j in range(width):\n",
    "            result[i][j] = mapping[int(image[i][j])]\n",
    "\n",
    "    return result\n"
   ]
  },
  {
   "cell_type": "markdown",
   "metadata": {},
   "source": [
    "Program di bawah digunakan untuk menyesuaikan histogram gambar input (`imgInput`) agar **menyerupai histogram gambar target** (`imgTarget`) secara manual. Pertama, fungsi menghitung histogram dan CDF (cumulative distribution function) dari kedua gambar. Lalu, untuk setiap nilai intensitas di gambar input, fungsi mencari nilai intensitas pada target yang memiliki nilai CDF paling mendekati, dan membuat **mapping** antara keduanya. Setelah mapping selesai, nilai intensitas gambar input diubah sesuai mapping tersebut, lalu dibentuk kembali menjadi gambar dengan bentuk aslinya. Hasil akhirnya adalah gambar input yang memiliki distribusi intensitas piksel serupa dengan gambar target.\n"
   ]
  },
  {
   "cell_type": "code",
   "execution_count": null,
   "metadata": {},
   "outputs": [],
   "source": [
    "def manual_histogram_matching(imgInput, imgTarget):\n",
    "    src_hist = [0] * 256\n",
    "    ref_hist = [0] * 256\n",
    "    \n",
    "    for pixel in imgInput.flatten():\n",
    "        src_hist[pixel] += 1\n",
    "    \n",
    "    for pixel in imgTarget.flatten():\n",
    "        ref_hist[pixel] += 1\n",
    "\n",
    "    src_cdf = [0.0] * 256\n",
    "    ref_cdf = [0.0] * 256\n",
    "\n",
    "    total_src = sum(src_hist)\n",
    "    total_ref = sum(ref_hist)\n",
    "\n",
    "    cumsum_src = 0\n",
    "    cumsum_ref = 0\n",
    "    for i in range(256):\n",
    "        cumsum_src += src_hist[i]\n",
    "        cumsum_ref += ref_hist[i]\n",
    "        src_cdf[i] = cumsum_src / total_src\n",
    "        ref_cdf[i] = cumsum_ref / total_ref\n",
    "\n",
    "    mapping = [0] * 256\n",
    "    for src_val in range(256):\n",
    "        min_diff = 1.0\n",
    "        closest_val = 0\n",
    "        for ref_val in range(256):\n",
    "            diff = abs(src_cdf[src_val] - ref_cdf[ref_val])\n",
    "            if diff < min_diff:\n",
    "                min_diff = diff\n",
    "                closest_val = ref_val\n",
    "        mapping[src_val] = closest_val\n",
    "\n",
    "    flat_input = imgInput.flatten()\n",
    "    matched_flat = np.array([mapping[pixel] for pixel in flat_input], dtype=np.uint8)\n",
    "    matched_image = matched_flat.reshape(imgInput.shape)\n",
    "\n",
    "    return matched_image\n"
   ]
  },
  {
   "cell_type": "markdown",
   "metadata": {},
   "source": [
    "Fungsi resixe_image melakukan resize (ubah ukuran) gambar ke dimensi yang diinginkan (target_height, target_width) secara manual. Skala perbandingan ukuran asli dan target dihitung, lalu setiap piksel pada gambar baru diisi dengan piksel dari posisi yang sesuai di gambar asli berdasarkan skala. Ini menggunakan metode nearest neighbor.\n",
    "\n",
    "Fungsi prepo1 hanya mengembalikan gambar asli tanpa perubahan. Baris konversi ke grayscale (cv.cvtColor) dikomentari, jadi saat ini fungsi ini tidak melakukan apa pun—biasanya digunakan sebagai placeholder atau tahapan pertama.\n",
    "\n",
    "Fungsi prepo2 melakukan histogram equalization pada gambar menggunakan fungsi equalize_histogram2, untuk meningkatkan kontras gambar dengan menyebarkan intensitas piksel secara merata.\n",
    "\n",
    "Fungsi prepo 3 ini melakukan histogram matching, yaitu menyesuaikan tampilan intensitas gambar (img) agar mirip dengan gambar acuan (img_spec), menggunakan fungsi manual_histogram_matching.\n",
    "\n"
   ]
  },
  {
   "cell_type": "code",
   "execution_count": null,
   "metadata": {},
   "outputs": [],
   "source": [
    "def convo(image, kernel):\n",
    "    img_height, img_width = image.shape\n",
    "    kernel_height, kernel_width = kernel.shape\n",
    "    pad_height = kernel_height //2\n",
    "    pad_width = kernel_width //2\n",
    "    padded_img =  np.pad(image, ((pad_height, pad_height), (pad_width, pad_width)), mode='constant')\n",
    "    result = np.zeros_like(image).astype(np.float32)\n",
    "\n",
    "    for i in range(img_height):\n",
    "        for j in range(img_width):\n",
    "            result[i, j] = np.sum(padded_img[i:i+kernel_height, j:j+kernel_width] * kernel)\n",
    "    return result\n",
    "\n",
    "kernel_mean_tanpa_mesin = np.array([\n",
    "    [1/9, 1/9, 1/9],\n",
    "    [1/9, 1/9, 1/9],\n",
    "    [1/9, 1/9, 1/9]\n",
    "])"
   ]
  },
  {
   "cell_type": "code",
   "execution_count": null,
   "metadata": {},
   "outputs": [],
   "source": [
    "def resize_image(img, target_height, target_width):\n",
    "    img = np.array(img)\n",
    "    height, width = img.shape\n",
    "\n",
    "    resized_img = np.zeros((target_height, target_width), dtype=img.dtype)\n",
    "\n",
    "    scale_x = target_width / width\n",
    "    scale_y = target_height / height\n",
    "\n",
    "    for i in range(target_height):\n",
    "        for j in range(target_width):\n",
    "            orig_x = int(j / scale_x)\n",
    "            orig_y = int(i / scale_y)\n",
    "            orig_x = min(orig_x, width - 1)\n",
    "            orig_y = min(orig_y, height - 1)\n",
    "\n",
    "            resized_img[i, j] = img[orig_y, orig_x]\n",
    "\n",
    "    return resized_img\n",
    "\n",
    "\n",
    "def prepro1(img):\n",
    "    img = convo(img,kernel_mean_tanpa_mesin)\n",
    "    return img\n",
    "\n",
    "def prepro2(img):\n",
    "    hist = equalize_histogram2(img)\n",
    "    return hist\n",
    "\n",
    "def prepro3(img,img_spec):\n",
    "    spec = manual_histogram_matching(img,img_spec)\n",
    "    return spec\n",
    "    \n"
   ]
  },
  {
   "cell_type": "markdown",
   "metadata": {},
   "source": [
    "### Preprocessing"
   ]
  },
  {
   "cell_type": "code",
   "execution_count": null,
   "metadata": {},
   "outputs": [],
   "source": [
    "# # pada bagian ini bisa gunakan data_augmented yang sebelum augmentasi atau setelah augmentasi\n",
    "# dataPreprocessed = []\n",
    "# for i in range(len(data)): # Loop through each image and do preprocessing\n",
    "# \tpass\n",
    "\n",
    "dataPreprocessed = []\n",
    "target_size=128\n",
    "target_height, target_width = 128,128  # ukuran gambar yang diinginkan (misal 128x128)\n",
    "\n",
    "for i in range(len(data_augmented)):\n",
    "    img = data_augmented[i]\n",
    "\n",
    "    # Resize gambar ke target_size x target_size\n",
    "    img_resized = resize_image(img, target_height,target_width)\n",
    "\n",
    "    # Preprocessing: normalisasi intensitas (misal fungsi prepro1)\n",
    "    img_1 = prepro1(img_resized)\n",
    "    img_2 = prepro2(img_1)\n",
    "    if i in [495,496,497,498,499,995,996,997,998,999,1495,1496,1497,1498,1499,1995,1996,1997,1998,1999]:\n",
    "        img_spec = data_augmented[i-5]\n",
    "    else : \n",
    "        img_spec = data_augmented[i+5]\n",
    "    img_3 = prepro3(img_2,img_spec)\n",
    "\n",
    "    dataPreprocessed.append(img_3)\n",
    "\n",
    "plt.imshow(dataPreprocessed[0],cmap='gray')\n"
   ]
  },
  {
   "cell_type": "markdown",
   "metadata": {},
   "source": [
    "Program di atas ini memproses setiap gambar dalam `data_augmented` dengan tiga tahap: resize ke 128x128 piksel, histogram equalization untuk meningkatkan kontras, dan histogram matching agar intensitasnya menyerupai gambar referensi. Gambar referensi dipilih dari gambar sebelum atau sesudahnya tergantung posisi indeks. Hasil akhirnya disimpan ke `dataPreprocessed` dan ditampilkan salah satu contohnya.\n"
   ]
  },
  {
   "cell_type": "markdown",
   "metadata": {},
   "source": [
    "### Feature Extraction"
   ]
  },
  {
   "cell_type": "markdown",
   "metadata": {},
   "source": [
    "Program di bawah digunakan untuk menghitung Gray Level Co-occurrence Matrix (GLCM) dari sebuah gambar grayscale dengan sudut tertentu. Fungsi ini menerima gambar dan sudut (`derajat`) yang bisa bernilai 0, 45, 90, atau 135 derajat, lalu mengubahnya ke radian (karena GLCM di `graycomatrix` memakai satuan radian). Setelah gambar dipastikan bertipe `uint8`, fungsi menghitung GLCM dengan jarak piksel 1, simetris, dan ternormalisasi, lalu mengembalikannya sebagai matriks GLCM. GLCM ini akan digunakan untuk ekstraksi fitur tekstur seperti contrast, homogeneity, energy, dan lainnya.\n"
   ]
  },
  {
   "cell_type": "code",
   "execution_count": null,
   "metadata": {},
   "outputs": [],
   "source": [
    "def glcm(image, derajat):\n",
    "    if derajat == 0:\n",
    "        angles = [0]\n",
    "    elif derajat == 45:\n",
    "        angles = [np.pi / 4]\n",
    "    elif derajat == 90:\n",
    "        angles = [np.pi / 2]\n",
    "    elif derajat == 135:\n",
    "        angles = [3 * np.pi / 4]\n",
    "    else:\n",
    "        raise ValueError(\"Invalid angle. It should be one of the following: 0, 45, 90, 135.\")\n",
    "\n",
    "   \n",
    "    image = image.astype(np.uint8)\n",
    "\n",
    "    glcm_matrix = graycomatrix(image, distances=[1], angles=angles, levels=256, symmetric=True, normed=True)\n",
    "    return glcm_matrix\n"
   ]
  },
  {
   "cell_type": "markdown",
   "metadata": {},
   "source": [
    "Fungsi di bawah untuk menghitung nilai korelasi dari GLCM, yaitu seberapa kuat hubungan antar piksel dalam gambar. Nilainya diambil dari hasil graycoprops(matriks, 'correlation') pada indeks [0, 0]."
   ]
  },
  {
   "cell_type": "code",
   "execution_count": null,
   "metadata": {},
   "outputs": [],
   "source": [
    "def correlation(matriks):\n",
    "\treturn graycoprops(matriks, 'correlation')[0, 0]"
   ]
  },
  {
   "cell_type": "markdown",
   "metadata": {},
   "source": [
    "Fungsi di bawah digunakan untuk menghitung tingkat perbedaan antar piksel dalam GLCM. Semakin tinggi nilainya, semakin besar perbedaan intensitas antar piksel di gambar. Nilai diambil dari hasil `graycoprops` dan dikembalikan sebagai satu angka.\n"
   ]
  },
  {
   "cell_type": "code",
   "execution_count": null,
   "metadata": {},
   "outputs": [],
   "source": [
    "def dissimilarity(matriks):\n",
    "    return graycoprops(matriks, 'dissimilarity')[0, 0]"
   ]
  },
  {
   "cell_type": "markdown",
   "metadata": {},
   "source": [
    "Fungsi di bawah menghitung tingkat keseragaman tekstur dari GLCM. Nilai yang tinggi menunjukkan bahwa piksel-piksel memiliki intensitas yang mirip atau berdekatan. Hasilnya diambil dari `graycoprops` dan dikembalikan sebagai satu nilai.\n"
   ]
  },
  {
   "cell_type": "code",
   "execution_count": null,
   "metadata": {},
   "outputs": [],
   "source": [
    "def homogenity(matriks):\n",
    "    return graycoprops(matriks, 'homogeneity')[0, 0]"
   ]
  },
  {
   "cell_type": "markdown",
   "metadata": {},
   "source": [
    "Fungsi di bawah digunakan untuk menghitung kontras tekstur dari GLCM. Nilai kontras menunjukkan seberapa besar perbedaan intensitas antar piksel; makin tinggi nilainya, makin tajam perbedaan intensitasnya. Hasilnya dikembalikan sebagai satu angka dari `graycoprops`.\n"
   ]
  },
  {
   "cell_type": "code",
   "execution_count": null,
   "metadata": {},
   "outputs": [],
   "source": [
    "def contrast(matriks):\n",
    "    return graycoprops(matriks, 'contrast')[0, 0]"
   ]
  },
  {
   "cell_type": "markdown",
   "metadata": {},
   "source": [
    "Fungsi di bawah digunakan untuk menghitung Angular Second Moment dari GLCM, yang juga dikenal sebagai energy. Nilai ini menunjukkan tingkat keteraturan tekstur — semakin tinggi nilainya, semakin seragam atau halus teksturnya. Nilai dikembalikan sebagai satu angka dari `graycoprops`.\n"
   ]
  },
  {
   "cell_type": "code",
   "execution_count": null,
   "metadata": {},
   "outputs": [],
   "source": [
    "def ASM(matriks):\n",
    "    return graycoprops(matriks, 'ASM')[0, 0]"
   ]
  },
  {
   "cell_type": "markdown",
   "metadata": {},
   "source": [
    "Fungsi di bawah digunakan untuk menghitung energi tekstur dari GLCM, yang mencerminkan keteraturan atau kekompakan dalam distribusi intensitas piksel. Nilai energy merupakan akar kuadrat dari ASM, dan makin tinggi nilainya, makin halus atau teratur teksturnya. Hasilnya dikembalikan sebagai satu nilai dari `graycoprops`.\n"
   ]
  },
  {
   "cell_type": "code",
   "execution_count": null,
   "metadata": {},
   "outputs": [],
   "source": [
    "def energy(matriks):\n",
    "    return graycoprops(matriks, 'energy')[0, 0]"
   ]
  },
  {
   "cell_type": "markdown",
   "metadata": {},
   "source": [
    "Fungsi di bawah digunakan untuk menghitung entropi dari GLCM, yaitu seberapa **acak atau kompleks** tekstur gambar. Makin tinggi nilainya, makin tidak teratur teksturnya.\n"
   ]
  },
  {
   "cell_type": "code",
   "execution_count": null,
   "metadata": {},
   "outputs": [],
   "source": [
    "def entropyGlcm(matriks):\n",
    "    return entropy(matriks.ravel())"
   ]
  },
  {
   "cell_type": "markdown",
   "metadata": {},
   "source": [
    " Program di bawah digunakan untuk menghitung GLCM dari setiap gambar di `dataPreprocessed` pada 4 sudut berbeda: 0°, 45°, 90°, dan 135°. Untuk setiap gambar, fungsi `glcm()` dipanggil 4 kali (masing-masing untuk satu sudut), dan hasilnya disimpan ke dalam list `Derajat0`, `Derajat45`, `Derajat90`, dan `Derajat135`. Dengan begitu, tiap list akan berisi matriks GLCM untuk seluruh gambar pada sudut tertentu, yang nantinya bisa digunakan untuk ekstraksi fitur tekstur.\n"
   ]
  },
  {
   "cell_type": "code",
   "execution_count": null,
   "metadata": {},
   "outputs": [],
   "source": [
    "Derajat0 = []\n",
    "Derajat45 = []\n",
    "Derajat90 = []\n",
    "Derajat135 = []\n",
    "for i in range(len(dataPreprocessed)):\n",
    "    D0 = glcm(dataPreprocessed[i], 0)\n",
    "    D45 = glcm(dataPreprocessed[i], 45)\n",
    "    D90 = glcm(dataPreprocessed[i], 90)\n",
    "    D135 = glcm(dataPreprocessed[i], 135)\n",
    "    Derajat0.append(D0)\n",
    "    Derajat45.append(D45)\n",
    "    Derajat90.append(D90)\n",
    "    Derajat135.append(D135)"
   ]
  },
  {
   "cell_type": "markdown",
   "metadata": {},
   "source": [
    "Program di bawah untuk menyiapkan list kosong untuk menyimpan hasil ekstraksi tujuh jenis fitur tekstur dari GLCM, yaitu kontras, dissimilarity, homogenity, entropy, ASM, energy, dan correlation. Setiap fitur akan dihitung untuk empat sudut arah GLCM: 0°, 45°, 90°, dan 135°, sehingga total ada 28 list yang masing-masing akan diisi nilai fitur dari seluruh gambar. List ini digunakan untuk menyimpan hasil ekstraksi agar bisa dianalisis atau digunakan sebagai input model klasifikasi."
   ]
  },
  {
   "cell_type": "code",
   "execution_count": null,
   "metadata": {},
   "outputs": [],
   "source": [
    "Kontras0, Kontras45, Kontras90, Kontras135 = [], [], [], []\n",
    "dissimilarity0, dissimilarity45, dissimilarity90, dissimilarity135 =  [], [], [], []\n",
    "homogenity0, homogenity45, homogenity90, homogenity135 = [], [], [], []\n",
    "entropy0, entropy45, entropy90, entropy135 =  [], [], [], []\n",
    "ASM0, ASM45, ASM90, ASM135 =  [], [], [], []\n",
    "energy0, energy45, energy90, energy135 =  [], [], [], []\n",
    "correlation0, correlation45, correlation90, correlation135 = [], [], [], []\n"
   ]
  },
  {
   "cell_type": "markdown",
   "metadata": {},
   "source": [
    "Program di bawah digunakan untuk menghitung nilai korelasi (correlation) dari matriks GLCM pada masing-masing sudut (0°, 45°, 90°, 135°) untuk setiap gambar dalam `dataPreprocessed`. Di setiap iterasi, fungsi `correlation()` dipanggil dengan GLCM yang sesuai (`Derajat0[i]`, `Derajat45[i]`, dst.), dan hasilnya disimpan ke list `correlation0`, `correlation45`, `correlation90`, dan `correlation135`. Tujuannya adalah untuk mengisi list-list tersebut dengan nilai korelasi sebagai bagian dari fitur tekstur yang akan digunakan untuk analisis atau klasifikasi.\n"
   ]
  },
  {
   "cell_type": "code",
   "execution_count": null,
   "metadata": {},
   "outputs": [],
   "source": [
    "for i in range(len(dataPreprocessed)):\n",
    "    C0 = correlation(Derajat0[i])\n",
    "    C45 = correlation(Derajat45[i])\n",
    "    C90 = correlation(Derajat90[i])\n",
    "    C135 = correlation(Derajat135[i])\n",
    "    correlation0.append(C0) \n",
    "    \n",
    "    correlation45.append(C45)\n",
    "    \n",
    "    correlation90.append(C90)\n",
    "    \n",
    "    correlation135.append(C135)"
   ]
  },
  {
   "cell_type": "markdown",
   "metadata": {},
   "source": [
    "Program di bawah digunakan untuk menghitung nilai kontras (contrast) dari matriks GLCM pada masing-masing sudut (0°, 45°, 90°, 135°) untuk setiap gambar dalam `dataPreprocessed`. Di setiap iterasi, fungsi `contrast()` dipanggil dengan GLCM yang sesuai (`Derajat0[i]`, `Derajat45[i]`, dst.), dan hasilnya disimpan ke list `contrast0`, `contrast45`, `contrast90`, dan `contrast135`. Tujuannya adalah untuk mengambil nilai kontras sebagai fitur tekstur dari setiap gambar pada empat sudut GLCM. Nilai kontras ini penting karena mengukur seberapa besar perbedaan intensitas antara piksel-piksel yang berdekatan—semakin tinggi nilainya, semakin tajam atau mencolok teksturnya.\n"
   ]
  },
  {
   "cell_type": "code",
   "execution_count": null,
   "metadata": {},
   "outputs": [],
   "source": [
    "for i in range(len(dataPreprocessed)):\n",
    "    K0 = contrast(Derajat0[i])\n",
    "    K45 = contrast(Derajat45[i])\n",
    "    K90 = contrast(Derajat90[i])\n",
    "    K135 = contrast(Derajat135[i])\n",
    "    Kontras0.append(K0)\n",
    "    Kontras45.append(K45)\n",
    "    Kontras90.append(K90)\n",
    "    Kontras135.append(K135)"
   ]
  },
  {
   "cell_type": "markdown",
   "metadata": {},
   "source": [
    "Program di bawah digunakan untuk menghitung nilai dissimilarity dari matriks GLCM pada masing-masing sudut (0°, 45°, 90°, 135°) untuk setiap gambar dalam `dataPreprocessed`. Di setiap iterasi, fungsi `dissimilarity()` dipanggil dengan GLCM yang sesuai (`Derajat0[i]`, `Derajat45[i]`, dst.), dan hasilnya disimpan ke list `dissimilarity0`, `dissimilarity45`, `dissimilarity90`, dan `dissimilarity135`. Tujuannya adalah untuk mengambil nilai dissimilarity sebagai fitur tekstur dari setiap gambar pada empat sudut GLCM. Nilai ini penting karena dissimilarity mengukur seberapa besar perbedaan intensitas antar piksel, semakin tinggi nilainya, semakin kasar atau bervariasi teksturnya."
   ]
  },
  {
   "cell_type": "code",
   "execution_count": null,
   "metadata": {},
   "outputs": [],
   "source": [
    "for i in range(len(dataPreprocessed)):\n",
    "    Dis0 = dissimilarity(Derajat0[i])\n",
    "    Dis45 = dissimilarity(Derajat45[i])\n",
    "    Dis90 = dissimilarity(Derajat90[i])\n",
    "    Dis135 = dissimilarity(Derajat135[i])\n",
    "    dissimilarity0.append(Dis0)\n",
    "    dissimilarity45.append(Dis45)\n",
    "    dissimilarity90.append(Dis90)\n",
    "    dissimilarity135.append(Dis135)"
   ]
  },
  {
   "cell_type": "markdown",
   "metadata": {},
   "source": [
    "Program di bawah digunakan untuk menghitung nilai homogenity dari matriks GLCM pada masing-masing sudut (0°, 45°, 90°, 135°) untuk setiap gambar dalam `dataPreprocessed`. Di setiap iterasi, fungsi `homogenity()` dipanggil dengan GLCM yang sesuai (`Derajat0[i]`, `Derajat45[i]`, dst.), dan hasilnya disimpan ke list `homogenity0`, `homogenity45`, `homogenity90`, dan `homogenity135`. Tujuannya adalah untuk mengambil nilai homogenity sebagai fitur tekstur dari setiap gambar pada empat sudut GLCM. Nilai ini diambil karena homogenity mengukur tingkat keseragaman dalam gambar, semakin tinggi nilainya, semakin halus dan seragam teksturnya"
   ]
  },
  {
   "cell_type": "code",
   "execution_count": null,
   "metadata": {},
   "outputs": [],
   "source": [
    "for i in range(len(dataPreprocessed)):\n",
    "    H0 = homogenity(Derajat0[i])\n",
    "    H45 = homogenity(Derajat45[i])\n",
    "    H90 = homogenity(Derajat90[i])\n",
    "    H135 = homogenity(Derajat135[i])\n",
    "    homogenity0.append(H0)\n",
    "    homogenity45.append(H45)\n",
    "    homogenity90.append(H90)\n",
    "    homogenity135.append(H135)"
   ]
  },
  {
   "cell_type": "markdown",
   "metadata": {},
   "source": [
    "Program di bawah digunakan untuk menghitung nilai entropyGlcm dari matriks GLCM pada masing-masing sudut (0°, 45°, 90°, 135°) untuk setiap gambar dalam `dataPreprocessed`. Di setiap iterasi, fungsi `entropyGlcm()` dipanggil dengan GLCM yang sesuai (`Derajat0[i]`, `Derajat45[i]`, dst.), dan hasilnya disimpan ke list `entropyGlcm0`, `entropyGlcm45`, `entropyGlcm90`, dan `entropyGlcm135`. Tujuannya adalah untuk mengambil nilai entropi sebagai fitur tekstur dari setiap gambar pada empat sudut GLCM. Nilai entropi penting karena mengukur tingkat keacakan atau kompleksitas pola tekstur dalam gambar, semakin tinggi entropi, semakin tidak teratur teksturnya. "
   ]
  },
  {
   "cell_type": "code",
   "execution_count": null,
   "metadata": {},
   "outputs": [],
   "source": [
    "for i in range(len(dataPreprocessed)):  \n",
    "    E0 = entropyGlcm(Derajat0[i])\n",
    "    E45 = entropyGlcm(Derajat45[i])\n",
    "    E90 = entropyGlcm(Derajat90[i])\n",
    "    E135 = entropyGlcm(Derajat135[i])\n",
    "    entropy0.append(E0)\n",
    "    entropy45.append(E45)\n",
    "    entropy90.append(E90)\n",
    "    entropy135.append(E135)"
   ]
  },
  {
   "cell_type": "markdown",
   "metadata": {},
   "source": [
    "Program di bawah digunakan untuk menghitung nilai ASM dari matriks GLCM pada masing-masing sudut (0°, 45°, 90°, 135°) untuk setiap gambar dalam `dataPreprocessed`. Di setiap iterasi, fungsi `ASM()` dipanggil dengan GLCM yang sesuai (`Derajat0[i]`, `Derajat45[i]`, dst.), dan hasilnya disimpan ke list `ASM0`, `ASM45`, `ASM90`, dan `ASM135`. Tujuannya adalah untuk mengambil nilai ASM (Angular Second Moment) sebagai fitur tekstur dari setiap gambar pada empat sudut GLCM. ASM penting karena mengukur tingkat keteraturan atau kekompakan tekstur—nilai tinggi menunjukkan tekstur yang lebih seragam dan teratur."
   ]
  },
  {
   "cell_type": "code",
   "execution_count": null,
   "metadata": {},
   "outputs": [],
   "source": [
    "for i in range(len(dataPreprocessed)):\n",
    "    A0 = ASM(Derajat0[i])\n",
    "    A45 = ASM(Derajat45[i])\n",
    "    A90 = ASM(Derajat90[i])\n",
    "    A135 = ASM(Derajat135[i])\n",
    "    ASM0.append(A0)\n",
    "    ASM45.append(A45)\n",
    "    ASM90.append(A90)\n",
    "    ASM135.append(A135)"
   ]
  },
  {
   "cell_type": "markdown",
   "metadata": {},
   "source": [
    "Program di bawah digunakan untuk menghitung nilai energy dari matriks GLCM pada masing-masing sudut (0°, 45°, 90°, 135°) untuk setiap gambar dalam `dataPreprocessed`. Di setiap iterasi, fungsi `energy()` dipanggil dengan GLCM yang sesuai (`Derajat0[i]`, `Derajat45[i]`, dst.), dan hasilnya disimpan ke list `energy0`, `energy45`, `energy90`, dan `energy135`. Tujuannya adalah untuk mengambil nilai energy sebagai fitur tekstur dari setiap gambar pada empat sudut GLCM. Nilai energy menunjukkan tingkat kekompakan atau keseragaman tekstur, yang merupakan akar kuadrat dari ASM. "
   ]
  },
  {
   "cell_type": "code",
   "execution_count": null,
   "metadata": {},
   "outputs": [],
   "source": [
    "for i in range(len(dataPreprocessed)):\n",
    "    ER0 = energy(Derajat0[i])\n",
    "    ER45 = energy(Derajat45[i])\n",
    "    ER90 = energy(Derajat90[i])\n",
    "    ER135 = energy(Derajat135[i])\n",
    "    energy0.append(ER0)\n",
    "    energy45.append(ER45)\n",
    "    energy90.append(ER90)\n",
    "    energy135.append(ER135)"
   ]
  },
  {
   "cell_type": "markdown",
   "metadata": {},
   "source": [
    "### Write the extraction's results to CSV "
   ]
  },
  {
   "cell_type": "markdown",
   "metadata": {},
   "source": [
    "Program di bawah ini menyusun semua fitur tekstur yang telah diekstrak—seperti contrast, homogeneity, dissimilarity, entropy, ASM, energy, dan correlation dari empat sudut GLCM—beserta nama file dan labelnya ke dalam sebuah dictionary bernama `dataTable`. Selanjutnya, kode mencetak panjang setiap kolom untuk memastikan jumlah datanya konsisten, lalu mengonversi dictionary tersebut menjadi DataFrame menggunakan pandas dan menyimpannya ke file CSV bernama `hasil_ekstraksi_2.csv`. Terakhir, kode juga membaca file CSV lain bernama `hasil_ekstraksi_1.csv` ke dalam DataFrame untuk keperluan analisis atau pelatihan model lebih lanjut."
   ]
  },
  {
   "cell_type": "code",
   "execution_count": null,
   "metadata": {},
   "outputs": [
    {
     "name": "stdout",
     "output_type": "stream",
     "text": [
      "Filename: length = 2000\n",
      "Label: length = 2000\n",
      "Contrast0: length = 2000\n",
      "Contrast45: length = 2000\n",
      "Contrast90: length = 2000\n",
      "Contrast135: length = 2000\n",
      "Homogeneity0: length = 2000\n",
      "Homogeneity45: length = 2000\n",
      "Homogeneity90: length = 2000\n",
      "Homogeneity135: length = 2000\n",
      "Dissimilarity0: length = 2000\n",
      "Dissimilarity45: length = 2000\n",
      "Dissimilarity90: length = 2000\n",
      "Dissimilarity135: length = 2000\n",
      "Entropy0: length = 2000\n",
      "Entropy45: length = 2000\n",
      "Entropy90: length = 2000\n",
      "Entropy135: length = 2000\n",
      "ASM0: length = 2000\n",
      "ASM45: length = 2000\n",
      "ASM90: length = 2000\n",
      "ASM135: length = 2000\n",
      "Energy0: length = 2000\n",
      "Energy45: length = 2000\n",
      "Energy90: length = 2000\n",
      "Energy135: length = 2000\n",
      "Correlation0: length = 2000\n",
      "Correlation45: length = 2000\n",
      "Correlation90: length = 2000\n",
      "Correlation135: length = 2000\n"
     ]
    }
   ],
   "source": [
    "dataTable = {'Filename': file_names_all, 'Label': labels_all,\n",
    "        'Contrast0': Kontras0, 'Contrast45': Kontras45, 'Contrast90': Kontras90, 'Contrast135': Kontras135,\n",
    "        'Homogeneity0': homogenity0, 'Homogeneity45': homogenity45, 'Homogeneity90': homogenity90, 'Homogeneity135': homogenity135,\n",
    "        'Dissimilarity0': dissimilarity0, 'Dissimilarity45': dissimilarity45, 'Dissimilarity90': dissimilarity90, 'Dissimilarity135': dissimilarity135,\n",
    "        'Entropy0': entropy0, 'Entropy45': entropy45, 'Entropy90': entropy90, 'Entropy135': entropy135,\n",
    "        'ASM0': ASM0, 'ASM45': ASM45, 'ASM90': ASM90, 'ASM135': ASM135,\n",
    "        'Energy0': energy0, 'Energy45': energy45, 'Energy90': energy90, 'Energy135': energy135,\n",
    "        'Correlation0': correlation0, 'Correlation45': correlation45, 'Correlation90': correlation90, 'Correlation135': correlation135,\n",
    "        }\n",
    "for key, value in dataTable.items():\n",
    "    print(f\"{key}: length = {len(value)}\")\n",
    "\n",
    "\n",
    "df = pd.DataFrame(dataTable)\n",
    "df.to_csv('hasil_ekstraksi_2.csv', index=False)\n",
    "\n",
    "hasilEkstrak = pd.read_csv('hasil_ekstraksi_1.csv')\n"
   ]
  },
  {
   "cell_type": "markdown",
   "metadata": {},
   "source": [
    "### Features Selection"
   ]
  },
  {
   "cell_type": "markdown",
   "metadata": {},
   "source": [
    "pada bagian seleksi fitur ini bisa menggunakan metode seperti\n",
    "- PCA\n",
    "- LDA\n",
    "- t-SNE\n",
    "- Chi-square\n",
    "- ANOVA\n",
    "- Autoencoder\n",
    "- correlation\n",
    "- dll\n",
    "\n",
    "berikut contoh menggunakan correlation:"
   ]
  },
  {
   "cell_type": "code",
   "execution_count": null,
   "metadata": {},
   "outputs": [
    {
     "data": {
      "image/png": "[encoded data removed]",
      "text/plain": [
       "<Figure size 1200x1000 with 2 Axes>"
      ]
     },
     "metadata": {},
     "output_type": "display_data"
    },
    {
     "name": "stdout",
     "output_type": "stream",
     "text": [
      "Proporsi Variansi Tiap Komponen PCA:\n",
      "PC1: 0.6101 (61.01%)\n",
      "PC2: 0.2899 (28.99%)\n",
      "PC3: 0.0683 (6.83%)\n"
     ]
    }
   ],
   "source": [
    "# # Menghitung korelasi\n",
    "# correlation = hasilEkstrak.drop(columns=['Label','Filename']).corr()\n",
    "\n",
    "# # Menyaring fitur yang memiliki korelasi absolut lebih dari 0.95 dengan label\n",
    "# threshold = 0.95 # atur threshold ini untuk menentukan seberapa besar korelasi yang ingin disaring\n",
    "# selectionFeature = []\n",
    "# columns = np.full((correlation.shape[0],), True, dtype=bool)\n",
    "# for i in range(correlation.shape[0]):\n",
    "# \tfor j in range(i+1, correlation.shape[0]):\n",
    "# \t\tif correlation.iloc[i,j] >= threshold:\n",
    "# \t\t\tif columns[j]:\n",
    "# \t\t\t\tcolumns[j] = False\n",
    "# select = hasilEkstrak.drop(columns=['Label','Filename']).columns[columns]\n",
    "# x_new = hasilEkstrak[select]\n",
    "# y = hasilEkstrak['Label']\n",
    "# plt.figure(figsize=(17,17))\n",
    "# sns.heatmap(x_new.corr(), annot=True, cmap='Blues', fmt=\".2f\")\n",
    "\n",
    "#PCA\n",
    "from sklearn.decomposition import PCA\n",
    "from sklearn.preprocessing import StandardScaler\n",
    "\n",
    "# 1. Ambil fitur saja (hapus Label dan Filename)\n",
    "X = hasilEkstrak.drop(columns=['Label', 'Filename'])\n",
    "\n",
    "# 2. Standardisasi data (PCA sensitif terhadap skala fitur)\n",
    "scaler = StandardScaler()\n",
    "X_scaled = scaler.fit_transform(X)\n",
    "\n",
    "# 3. Terapkan PCA (misalnya ambil 95% variansi)\n",
    "pca = PCA(n_components=0.95)\n",
    "X_pca = pca.fit_transform(X_scaled)\n",
    "\n",
    "# 4. Buat DataFrame baru dari hasil PCA\n",
    "x_new = pd.DataFrame(X_pca, columns=[f'PC{i+1}' for i in range(X_pca.shape[1])])\n",
    "y = hasilEkstrak['Label']\n",
    "\n",
    "# 5. Visualisasi Heatmap korelasi antar Principal Components\n",
    "plt.figure(figsize=(12, 10))\n",
    "sns.heatmap(x_new.corr(), annot=True, cmap='coolwarm', fmt='.2f')\n",
    "plt.title('Korelasi antar Principal Components (PCA)')\n",
    "plt.show()\n",
    "\n",
    "# 6. (Opsional) Tampilkan variansi tiap komponen\n",
    "explained_variance = pca.explained_variance_ratio_\n",
    "print(\"Proporsi Variansi Tiap Komponen PCA:\")\n",
    "for i, var in enumerate(explained_variance):\n",
    "    print(f\"PC{i+1}: {var:.4f} ({var*100:.2f}%)\")\n",
    "\n",
    "#LDA\n",
    "\n",
    "# from sklearn.discriminant_analysis import LinearDiscriminantAnalysis as LDA\n",
    "# from sklearn.preprocessing import StandardScaler\n",
    "\n",
    "# # 1. Pisahkan fitur dan label\n",
    "# X = hasilEkstrak.drop(columns=['Label', 'Filename'])\n",
    "# y = hasilEkstrak['Label']\n",
    "\n",
    "# # 2. Standardisasi fitur (direkomendasikan)\n",
    "# scaler = StandardScaler()\n",
    "# X_scaled = scaler.fit_transform(X)\n",
    "\n",
    "# # 3. Terapkan LDA\n",
    "# # n_components maksimal = jumlah kelas - 1\n",
    "# lda = LDA(n_components=None)  # akan mengambil semua komponen yang mungkin\n",
    "# X_lda = lda.fit_transform(X_scaled, y)\n",
    "\n",
    "# # 4. Buat DataFrame hasil LDA\n",
    "# x_new = pd.DataFrame(X_lda, columns=[f'LD{i+1}' for i in range(X_lda.shape[1])])\n",
    "\n",
    "# # 5. Visualisasi hasil LDA (misal plot 2 komponen pertama jika ada)\n",
    "# if x_new.shape[1] >= 2:\n",
    "#     plt.figure(figsize=(10, 8))\n",
    "#     for label in np.unique(y):\n",
    "#         plt.scatter(\n",
    "#             x_new[y == label].iloc[:, 0],\n",
    "#             x_new[y == label].iloc[:, 1],\n",
    "#             label=f'Class {label}',\n",
    "#             alpha=0.7\n",
    "#         )\n",
    "#     plt.xlabel('LD1')\n",
    "#     plt.ylabel('LD2')\n",
    "#     plt.title('Proyeksi Hasil LDA')\n",
    "#     plt.legend()\n",
    "#     plt.grid(True)\n",
    "#     plt.show()\n",
    "\n",
    "# # 6. (Opsional) Tampilkan heatmap korelasi antar LD\n",
    "# plt.figure(figsize=(10, 8))\n",
    "# sns.heatmap(x_new.corr(), annot=True, cmap='viridis', fmt='.2f')\n",
    "# plt.title(\"Korelasi antar Linear Discriminants\")\n",
    "# plt.show()\n",
    "\n",
    "# from sklearn.feature_selection import mutual_info_classif, SelectKBest\n",
    "\n",
    "# X = hasilEkstrak.drop(columns=['Label', 'Filename'])\n",
    "# y = hasilEkstrak['Label']\n",
    "\n",
    "# selector = SelectKBest(score_func=mutual_info_classif, k=10)  # pilih top 10 fitur\n",
    "# X_selected = selector.fit_transform(X, y)\n",
    "\n",
    "# # Lihat fitur yang terpilih\n",
    "# selected_features = X.columns[selector.get_support()]\n",
    "# print(\"Fitur terpilih:\", selected_features)\n"
   ]
  },
  {
   "cell_type": "markdown",
   "metadata": {},
   "source": [
    "Program di atas digunakan untuk menyederhanakan data fitur menggunakan PCA (Principal Component Analysis) agar tetap informatif namun lebih ringkas. Pertama, fitur numerik dipisahkan dari kolom `Label` dan `Filename`, lalu distandardisasi karena PCA sensitif terhadap skala. PCA diterapkan untuk mengambil komponen utama yang mewakili 95% variasi data. Hasilnya disimpan sebagai DataFrame baru berisi PC1, PC2, dan seterusnya. Untuk memastikan komponen saling independen, ditampilkan heatmap korelasi antar komponen. Terakhir, proporsi variansi tiap komponen dicetak untuk menunjukkan seberapa besar informasi yang dibawa oleh masing-masing PC.\n"
   ]
  },
  {
   "cell_type": "markdown",
   "metadata": {},
   "source": [
    "## Splitting Data"
   ]
  },
  {
   "cell_type": "markdown",
   "metadata": {},
   "source": [
    "Program di atas digunakan untuk membagi data hasil PCA menjadi data latih (`X_train`, `y_train`) dan data uji (`X_test`, `y_test`) dengan proporsi 70% untuk pelatihan dan 30% untuk pengujian, menggunakan fungsi `train_test_split` dari sklearn. Parameter `random_state=42` digunakan agar pembagian data bersifat konsisten saat kode dijalankan berulang. Fungsi `print()` digunakan untuk menampilkan jumlah data pada masing-masing bagian, sehingga kita bisa memastikan pembagian data berjalan dengan benar.\n"
   ]
  },
  {
   "cell_type": "code",
   "execution_count": null,
   "metadata": {},
   "outputs": [
    {
     "name": "stdout",
     "output_type": "stream",
     "text": [
      "(1400, 3)\n",
      "(600, 3)\n"
     ]
    }
   ],
   "source": [
    "# ubah bagian test_size sesuai kebutuhan\n",
    "# 0.3 = 30% data untuk testing (train/test 70/30)\n",
    "# 0.2 = 20% data untuk testing (train/test 80/20)\n",
    "X_train, X_test, y_train, y_test = train_test_split(x_new, y, test_size=0.3, random_state=42)\n",
    "print(X_train.shape)\n",
    "print(X_test.shape)"
   ]
  },
  {
   "cell_type": "markdown",
   "metadata": {},
   "source": [
    "## Feature Normalization"
   ]
  },
  {
   "cell_type": "markdown",
   "metadata": {},
   "source": [
    "berikut metode normalisasi yang bisa digunakan:\n",
    "- Min-Max Scaling\n",
    "- Standardization (Z-score)\n",
    "- Robust Scaling\n",
    "- MaxAbsScaler\n",
    "- dll\n",
    "\n",
    "berikut contoh menggunakan Standardization (Z-score):"
   ]
  },
  {
   "cell_type": "markdown",
   "metadata": {},
   "source": [
    "program di atas digunakan untuk melakukan normalisasi Min-Max pada data latih dan data uji, agar semua fitur berada dalam rentang 0 hingga 1. Pertama, dicari nilai minimum dan maksimum dari `X_train`, lalu digunakan untuk menskalakan `X_train` dan `X_test` menggunakan rumus `(X - min) / (max - min)`. Proses ini penting agar setiap fitur memiliki skala yang seragam, sehingga model machine learning tidak bias terhadap fitur dengan nilai yang lebih besar.\n"
   ]
  },
  {
   "cell_type": "code",
   "execution_count": null,
   "metadata": {},
   "outputs": [],
   "source": [
    "# # normalisasi mean std\n",
    "# X_test = (X_test - X_train.mean()) / X_train.std()\n",
    "# X_train = (X_train - X_train.mean()) / X_train.std()\n",
    "# Hitung min dan max dari X_train\n",
    "X_min = X_train.min()\n",
    "X_max = X_train.max()\n",
    "\n",
    "# Terapkan Min-Max Scaling pada X_train dan X_test\n",
    "X_train_scaled = (X_train - X_min) / (X_max - X_min)\n",
    "X_test_scaled = (X_test - X_min) / (X_max - X_min)\n"
   ]
  },
  {
   "cell_type": "markdown",
   "metadata": {},
   "source": [
    "## Modeling"
   ]
  },
  {
   "cell_type": "markdown",
   "metadata": {},
   "source": [
    "### Define Model"
   ]
  },
  {
   "cell_type": "markdown",
   "metadata": {},
   "source": [
    "Program di atas digunakan untuk menampilkan hasil evaluasi model klasifikasi, termasuk classification report, confusion matrix, dan accuracy. Kemudian, tiga model klasifikasi didefinisikan:\n",
    "\n",
    "RandomForestClassifier dengan 5 pohon keputusan (estimators) dan seed acak 42,\n",
    "\n",
    "SVC (Support Vector Machine) dengan kernel radial basis function (RBF),\n",
    "\n",
    "KNeighborsClassifier dengan 5 tetangga terdekat.\n",
    "\n",
    "Ketiganya akan digunakan untuk melatih model dan mengevaluasi performanya terhadap data uji"
   ]
  },
  {
   "cell_type": "code",
   "execution_count": null,
   "metadata": {},
   "outputs": [],
   "source": [
    "def generateClassificationReport(y_true, y_pred):\n",
    "\tprint(classification_report(y_true, y_pred))\n",
    "\tprint(confusion_matrix(y_true, y_pred))\n",
    "\tprint('Accuracy:', accuracy_score(y_true, y_pred))\n",
    "\n",
    "# Define classifiers\n",
    "rf = RandomForestClassifier(n_estimators=5, random_state=42)\n",
    "svm = SVC(kernel='rbf', random_state=42)\n",
    "knn = KNeighborsClassifier(n_neighbors=5)"
   ]
  },
  {
   "cell_type": "markdown",
   "metadata": {},
   "source": [
    "### Train Random Forest Classifier"
   ]
  },
  {
   "cell_type": "code",
   "execution_count": null,
   "metadata": {},
   "outputs": [
    {
     "name": "stdout",
     "output_type": "stream",
     "text": [
      "------Training Set------\n",
      "              precision    recall  f1-score   support\n",
      "\n",
      "        Dark       0.99      0.98      0.98       343\n",
      "       Green       0.98      0.99      0.99       355\n",
      "       Light       0.99      0.98      0.99       362\n",
      "      Medium       0.98      0.99      0.98       340\n",
      "\n",
      "    accuracy                           0.98      1400\n",
      "   macro avg       0.98      0.98      0.98      1400\n",
      "weighted avg       0.99      0.98      0.99      1400\n",
      "\n",
      "[[336   0   0   7]\n",
      " [  0 352   3   0]\n",
      " [  0   6 356   0]\n",
      " [  5   0   0 335]]\n",
      "Accuracy: 0.985\n",
      "\n",
      "------Testing Set------\n",
      "              precision    recall  f1-score   support\n",
      "\n",
      "        Dark       0.83      0.89      0.86       157\n",
      "       Green       0.90      0.91      0.90       145\n",
      "       Light       0.83      0.84      0.84       138\n",
      "      Medium       0.86      0.78      0.82       160\n",
      "\n",
      "    accuracy                           0.85       600\n",
      "   macro avg       0.85      0.85      0.85       600\n",
      "weighted avg       0.85      0.85      0.85       600\n",
      "\n",
      "[[139   0   1  17]\n",
      " [  0 132  13   0]\n",
      " [  3  15 116   4]\n",
      " [ 26   0   9 125]]\n",
      "Accuracy: 0.8533333333333334\n"
     ]
    }
   ],
   "source": [
    "# Train Random Forest Classifier\n",
    "rf.fit(X_train, y_train)\n",
    "\n",
    "# Make predictions and evaluate the model with the training set\n",
    "print(\"------Training Set------\")\n",
    "y_pred = rf.predict(X_train)\n",
    "generateClassificationReport( y_train, y_pred)\n",
    "\n",
    "# Make predictions and evaluate the model with the testing set\n",
    "print(\"\\n------Testing Set------\")\n",
    "y_pred = rf.predict(X_test)\n",
    "generateClassificationReport( y_test, y_pred)"
   ]
  },
  {
   "cell_type": "markdown",
   "metadata": {},
   "source": [
    "Program di atas untuk melatih model Random Forest menggunakan data latih `X_train` dan `y_train`, lalu mengevaluasi performanya pada data latih dan data uji. Setelah pelatihan, model memprediksi label pada `X_train` dan `X_test`, kemudian hasilnya dievaluasi menggunakan fungsi `generateClassificationReport` yang menampilkan classification report, confusion matrix, dan akurasi. Tujuannya adalah untuk melihat seberapa baik model mengenali pola pada data yang dipelajari dan mengujinya pada data baru.\n",
    "\n",
    "Outputnya memperlihatkan bahwa model bekerja sangat baik pada data latih, dan cukup baik pada data uji, dengan akurasi 85.3%."
   ]
  },
  {
   "cell_type": "markdown",
   "metadata": {},
   "source": [
    "### Train SVM Classifier"
   ]
  },
  {
   "cell_type": "code",
   "execution_count": null,
   "metadata": {},
   "outputs": [
    {
     "name": "stdout",
     "output_type": "stream",
     "text": [
      "\n",
      "------Training Set------\n",
      "              precision    recall  f1-score   support\n",
      "\n",
      "        Dark       0.65      0.68      0.66       343\n",
      "       Green       0.80      0.90      0.85       355\n",
      "       Light       0.76      0.65      0.70       362\n",
      "      Medium       0.57      0.56      0.57       340\n",
      "\n",
      "    accuracy                           0.70      1400\n",
      "   macro avg       0.70      0.70      0.70      1400\n",
      "weighted avg       0.70      0.70      0.70      1400\n",
      "\n",
      "[[232   0   1 110]\n",
      " [  0 319  36   0]\n",
      " [ 15  79 236  32]\n",
      " [111   0  37 192]]\n",
      "Accuracy: 0.6992857142857143\n",
      "\n",
      "------Testing Set------\n",
      "              precision    recall  f1-score   support\n",
      "\n",
      "        Dark       0.63      0.66      0.64       157\n",
      "       Green       0.78      0.88      0.83       145\n",
      "       Light       0.78      0.65      0.71       138\n",
      "      Medium       0.61      0.59      0.60       160\n",
      "\n",
      "    accuracy                           0.69       600\n",
      "   macro avg       0.70      0.70      0.69       600\n",
      "weighted avg       0.69      0.69      0.69       600\n",
      "\n",
      "[[104   0   0  53]\n",
      " [  0 128  17   0]\n",
      " [  5  37  90   6]\n",
      " [ 57   0   9  94]]\n",
      "Accuracy: 0.6933333333333334\n"
     ]
    }
   ],
   "source": [
    "# Train SVM Classifier\n",
    "svm.fit(X_train, y_train)\n",
    "\n",
    "# Make predictions and evaluate the model with the training set\n",
    "print(\"\\n------Training Set------\")\n",
    "y_pred = svm.predict(X_train)\n",
    "generateClassificationReport( y_train, y_pred)\n",
    "\n",
    "# Make predictions and evaluate the model with the testing set\n",
    "print(\"\\n------Testing Set------\")\n",
    "y_pred = svm.predict(X_test)\n",
    "generateClassificationReport( y_test, y_pred)"
   ]
  },
  {
   "cell_type": "markdown",
   "metadata": {},
   "source": [
    "Program di atas untuk melatih model SVM (Support Vector Machine) menggunakan data latih `X_train` dan `y_train`, lalu mengevaluasi performanya pada data latih dan data uji. Setelah model dilatih, prediksi dilakukan terhadap `X_train` dan `X_test`, lalu hasilnya dievaluasi menggunakan `generateClassificationReport` untuk menampilkan classification report, confusion matrix, dan akurasi. Evaluasi ini bertujuan untuk mengetahui kemampuan model dalam mengenali pola pada data pelatihan serta menguji generalisasi model terhadap data baru.\n",
    "\n",
    "Model SVM mampu mengenali pola dasar dengan performanya akurasi sekitar 69%.\n"
   ]
  },
  {
   "cell_type": "markdown",
   "metadata": {},
   "source": [
    "### Train KNN Classifier"
   ]
  },
  {
   "cell_type": "code",
   "execution_count": null,
   "metadata": {},
   "outputs": [
    {
     "name": "stdout",
     "output_type": "stream",
     "text": [
      "\n",
      "------Training Set------\n",
      "              precision    recall  f1-score   support\n",
      "\n",
      "        Dark       0.89      0.92      0.90       343\n",
      "       Green       0.95      0.94      0.94       355\n",
      "       Light       0.92      0.91      0.91       362\n",
      "      Medium       0.88      0.87      0.88       340\n",
      "\n",
      "    accuracy                           0.91      1400\n",
      "   macro avg       0.91      0.91      0.91      1400\n",
      "weighted avg       0.91      0.91      0.91      1400\n",
      "\n",
      "[[315   0   1  27]\n",
      " [  0 335  20   0]\n",
      " [  2  19 328  13]\n",
      " [ 38   0   6 296]]\n",
      "Accuracy: 0.91\n",
      "\n",
      "------Testing Set------\n",
      "              precision    recall  f1-score   support\n",
      "\n",
      "        Dark       0.72      0.77      0.74       157\n",
      "       Green       0.92      0.83      0.87       145\n",
      "       Light       0.78      0.80      0.79       138\n",
      "      Medium       0.68      0.68      0.68       160\n",
      "\n",
      "    accuracy                           0.77       600\n",
      "   macro avg       0.77      0.77      0.77       600\n",
      "weighted avg       0.77      0.77      0.77       600\n",
      "\n",
      "[[121   0   0  36]\n",
      " [  0 120  25   0]\n",
      " [  2  11 110  15]\n",
      " [ 45   0   6 109]]\n",
      "Accuracy: 0.7666666666666667\n"
     ]
    }
   ],
   "source": [
    "# Train KNN Classifier\n",
    "knn.fit(X_train, y_train)\n",
    "\n",
    "# Make predictions and evaluate the model with the training set\n",
    "print(\"\\n------Training Set------\")\n",
    "y_pred = knn.predict(X_train)\n",
    "generateClassificationReport( y_train, y_pred)\n",
    "\n",
    "# Make predictions and evaluate the model with the testing set\n",
    "print(\"\\n------Testing Set------\")\n",
    "y_pred = knn.predict(X_test)\n",
    "generateClassificationReport( y_test, y_pred)\n"
   ]
  },
  {
   "cell_type": "markdown",
   "metadata": {},
   "source": [
    "Program di atas digunakan untuk melatih dan mengevaluasi model K-Nearest Neighbors (KNN). Pertama, model KNN dilatih menggunakan data latih `X_train` dan `y_train` dengan `knn.fit()`. Setelah itu, model digunakan untuk memprediksi data latih dan data uji. Hasil prediksi dievaluasi menggunakan fungsi `generateClassificationReport`, yang akan menampilkan classification report (precision, recall, dan F1-score), confusion matrix, dan akurasi. Tujuan dari proses ini adalah untuk menilai seberapa baik model KNN mengenali pola dari data latih dan seberapa akurat kinerjanya saat menghadapi data baru.\n",
    "\n",
    "Model KNN menunjukkan performa yang baik dengan akurasi tinggi pada data latih dan cukup baik pada data uji. Meski ada penurunan performa (dari 91% ke 76.7%),\n"
   ]
  },
  {
   "cell_type": "markdown",
   "metadata": {},
   "source": [
    "## Evaluation With Confusion Matrix"
   ]
  },
  {
   "cell_type": "code",
   "execution_count": null,
   "metadata": {},
   "outputs": [
    {
     "data": {
      "image/png": "[encoded data removed]",
      "text/plain": [
       "<Figure size 640x480 with 2 Axes>"
      ]
     },
     "metadata": {},
     "output_type": "display_data"
    },
    {
     "data": {
      "image/png": "[encoded data removed]",
      "text/plain": [
       "<Figure size 640x480 with 2 Axes>"
      ]
     },
     "metadata": {},
     "output_type": "display_data"
    },
    {
     "data": {
      "image/png": "[encoded data removed]",
      "text/plain": [
       "<Figure size 640x480 with 2 Axes>"
      ]
     },
     "metadata": {},
     "output_type": "display_data"
    }
   ],
   "source": [
    "def plot_confusion_matrix(y_true, y_pred, title):\n",
    "    cm = confusion_matrix(y_true, y_pred)\n",
    "    disp = ConfusionMatrixDisplay(confusion_matrix=cm)\n",
    "    disp.plot(cmap=plt.cm.Blues)\n",
    "    plt.title(title)\n",
    "    plt.show()\n",
    "\n",
    "# Plot confusion matrix for Random Forest\n",
    "plot_confusion_matrix(y_test, rf.predict(X_test), \"Random Forest Confusion Matrix\")\n",
    "# Plot confusion matrix for SVM\n",
    "plot_confusion_matrix(y_test, svm.predict(X_test), \"SVM Confusion Matrix\")\n",
    "# Plot confusion matrix for KNN\n",
    "plot_confusion_matrix(y_test, knn.predict(X_test), \"KNN Confusion Matrix\")"
   ]
  },
  {
   "cell_type": "markdown",
   "metadata": {},
   "source": [
    "Program di atas digunakan untuk menampilkan confusion matrix dari tiga model klasifikasi: Random Forest, SVM, dan KNN. Fungsi `plot_confusion_matrix()` menerima label sebenarnya (`y_true`), hasil prediksi (`y_pred`), dan judul plot, lalu membuat confusion matrix menggunakan `ConfusionMatrixDisplay` dari sklearn dan menampilkannya sebagai grafik berwarna biru (`Blues colormap`). Kemudian, fungsi ini dipanggil tiga kali untuk menampilkan confusion matrix dari masing-masing model berdasarkan hasil prediksi pada data uji (`X_test`). Tujuannya adalah untuk membandingkan pola kesalahan klasifikasi antar model secara visual, agar lebih mudah melihat di kelas mana model paling sering salah atau benar dalam prediksi.\n"
   ]
  }
 ],
 "metadata": {
  "kernelspec": {
   "display_name": "Python 3",
   "language": "python",
   "name": "python3"
  },
  "language_info": {
   "codemirror_mode": {
    "name": "ipython",
    "version": 3
   },
   "file_extension": ".py",
   "mimetype": "text/x-python",
   "name": "python",
   "nbconvert_exporter": "python",
   "pygments_lexer": "ipython3",
   "version": "3.13.2"
  }
 },
 "nbformat": 4,
 "nbformat_minor": 2
}
